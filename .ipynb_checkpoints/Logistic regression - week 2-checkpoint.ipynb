{
 "cells": [
  {
   "cell_type": "code",
   "execution_count": 1,
   "metadata": {},
   "outputs": [],
   "source": [
    "import pandas as pd\n",
    "import numpy as np\n",
    "import matplotlib.pyplot as plt\n",
    "\n",
    "from scipy.optimize import minimize\n",
    "from sklearn.preprocessing import PolynomialFeatures\n",
    "\n",
    "import seaborn as sns\n",
    "sns.set_context('notebook')\n",
    "sns.set_style('white')"
   ]
  },
  {
   "cell_type": "code",
   "execution_count": 2,
   "metadata": {},
   "outputs": [],
   "source": [
    "def loaddata(file, delimeter):\n",
    "    data = np.loadtxt(file, delimiter=delimeter)\n",
    "    print('Dimensions: ',data.shape)\n",
    "    print(data[1:6,:])\n",
    "    return(data)"
   ]
  },
  {
   "cell_type": "code",
   "execution_count": 3,
   "metadata": {},
   "outputs": [],
   "source": [
    "def plotData(data, label_x, label_y, label_pos, label_neg, axes=None):\n",
    "    # Get indexes for class 0 and class 1\n",
    "    neg = data[:,2] == 0\n",
    "    pos = data[:,2] == 1\n",
    "    \n",
    "    # If no specific axes object has been passed, get the current axes.\n",
    "    if axes == None:\n",
    "        axes = plt.gca()\n",
    "    axes.scatter(data[pos][:,0], data[pos][:,1], marker='+', c='k', s=60, linewidth=2, label=label_pos)\n",
    "    axes.scatter(data[neg][:,0], data[neg][:,1], c='y', s=60, label=label_neg)\n",
    "    axes.set_xlabel(label_x)\n",
    "    axes.set_ylabel(label_y)\n",
    "    axes.legend(frameon= True, fancybox = True);"
   ]
  },
  {
   "cell_type": "code",
   "execution_count": 4,
   "metadata": {},
   "outputs": [
    {
     "name": "stdout",
     "output_type": "stream",
     "text": [
      "Dimensions:  (100, 3)\n",
      "[[30.28671077 43.89499752  0.        ]\n",
      " [35.84740877 72.90219803  0.        ]\n",
      " [60.18259939 86.3085521   1.        ]\n",
      " [79.03273605 75.34437644  1.        ]\n",
      " [45.08327748 56.31637178  0.        ]]\n"
     ]
    }
   ],
   "source": [
    "data = loaddata('C:/Users/dbatists/Documents/datasets/ex2data1.txt', ',')"
   ]
  },
  {
   "cell_type": "code",
   "execution_count": 5,
   "metadata": {},
   "outputs": [
    {
     "data": {
      "image/png": "[encoded data removed]",
      "text/plain": [
       "<Figure size 432x288 with 1 Axes>"
      ]
     },
     "metadata": {
      "needs_background": "light"
     },
     "output_type": "display_data"
    }
   ],
   "source": [
    "plotData(data, 'Exam 1 score', 'Exam 2 score', 'Admitted', 'Not admitted')"
   ]
  },
  {
   "cell_type": "code",
   "execution_count": 13,
   "metadata": {},
   "outputs": [
    {
     "name": "stdout",
     "output_type": "stream",
     "text": [
      "My X values [[ 1.         34.62365962 78.02469282]\n",
      " [ 1.         30.28671077 43.89499752]\n",
      " [ 1.         35.84740877 72.90219803]\n",
      " [ 1.         60.18259939 86.3085521 ]\n",
      " [ 1.         79.03273605 75.34437644]\n",
      " [ 1.         45.08327748 56.31637178]\n",
      " [ 1.         61.10666454 96.51142588]\n",
      " [ 1.         75.02474557 46.55401354]\n",
      " [ 1.         76.0987867  87.42056972]\n",
      " [ 1.         84.43281996 43.53339331]\n",
      " [ 1.         95.86155507 38.22527806]\n",
      " [ 1.         75.01365839 30.60326323]\n",
      " [ 1.         82.30705337 76.4819633 ]\n",
      " [ 1.         69.36458876 97.71869196]\n",
      " [ 1.         39.53833914 76.03681085]\n",
      " [ 1.         53.97105215 89.20735014]\n",
      " [ 1.         69.07014406 52.74046973]\n",
      " [ 1.         67.94685548 46.67857411]\n",
      " [ 1.         70.66150955 92.92713789]\n",
      " [ 1.         76.97878373 47.57596365]\n",
      " [ 1.         67.37202755 42.83843832]\n",
      " [ 1.         89.67677575 65.79936593]\n",
      " [ 1.         50.53478829 48.85581153]\n",
      " [ 1.         34.21206098 44.2095286 ]\n",
      " [ 1.         77.92409145 68.97235999]\n",
      " [ 1.         62.27101367 69.95445795]\n",
      " [ 1.         80.19018075 44.82162893]\n",
      " [ 1.         93.1143888  38.80067034]\n",
      " [ 1.         61.83020602 50.25610789]\n",
      " [ 1.         38.7858038  64.99568096]\n",
      " [ 1.         61.37928945 72.80788731]\n",
      " [ 1.         85.40451939 57.05198398]\n",
      " [ 1.         52.10797973 63.12762377]\n",
      " [ 1.         52.04540477 69.43286012]\n",
      " [ 1.         40.23689374 71.16774802]\n",
      " [ 1.         54.63510555 52.21388588]\n",
      " [ 1.         33.91550011 98.86943574]\n",
      " [ 1.         64.17698887 80.90806059]\n",
      " [ 1.         74.78925296 41.57341523]\n",
      " [ 1.         34.18364003 75.23772034]\n",
      " [ 1.         83.90239366 56.30804622]\n",
      " [ 1.         51.54772027 46.85629026]\n",
      " [ 1.         94.44336777 65.56892161]\n",
      " [ 1.         82.36875376 40.61825516]\n",
      " [ 1.         51.04775177 45.82270146]\n",
      " [ 1.         62.22267576 52.06099195]\n",
      " [ 1.         77.19303493 70.4582    ]\n",
      " [ 1.         97.77159928 86.72782233]\n",
      " [ 1.         62.0730638  96.76882412]\n",
      " [ 1.         91.5649745  88.69629255]\n",
      " [ 1.         79.94481794 74.16311935]\n",
      " [ 1.         99.27252693 60.999031  ]\n",
      " [ 1.         90.54671411 43.39060181]\n",
      " [ 1.         34.52451385 60.39634246]\n",
      " [ 1.         50.28649612 49.80453881]\n",
      " [ 1.         49.58667722 59.80895099]\n",
      " [ 1.         97.64563396 68.86157272]\n",
      " [ 1.         32.57720017 95.59854761]\n",
      " [ 1.         74.24869137 69.82457123]\n",
      " [ 1.         71.79646206 78.45356225]\n",
      " [ 1.         75.39561147 85.75993667]\n",
      " [ 1.         35.28611282 47.02051395]\n",
      " [ 1.         56.2538175  39.26147251]\n",
      " [ 1.         30.05882245 49.59297387]\n",
      " [ 1.         44.66826172 66.45008615]\n",
      " [ 1.         66.56089447 41.09209808]\n",
      " [ 1.         40.45755098 97.53518549]\n",
      " [ 1.         49.07256322 51.88321182]\n",
      " [ 1.         80.27957401 92.11606081]\n",
      " [ 1.         66.74671857 60.99139403]\n",
      " [ 1.         32.72283304 43.30717306]\n",
      " [ 1.         64.03932042 78.03168802]\n",
      " [ 1.         72.34649423 96.22759297]\n",
      " [ 1.         60.45788574 73.0949981 ]\n",
      " [ 1.         58.84095622 75.85844831]\n",
      " [ 1.         99.8278578  72.36925193]\n",
      " [ 1.         47.26426911 88.475865  ]\n",
      " [ 1.         50.4581598  75.80985953]\n",
      " [ 1.         60.45555629 42.50840944]\n",
      " [ 1.         82.22666158 42.71987854]\n",
      " [ 1.         88.91389642 69.8037889 ]\n",
      " [ 1.         94.83450672 45.6943068 ]\n",
      " [ 1.         67.31925747 66.58935318]\n",
      " [ 1.         57.23870632 59.51428198]\n",
      " [ 1.         80.366756   90.9601479 ]\n",
      " [ 1.         68.46852179 85.5943071 ]\n",
      " [ 1.         42.07545454 78.844786  ]\n",
      " [ 1.         75.47770201 90.424539  ]\n",
      " [ 1.         78.63542435 96.64742717]\n",
      " [ 1.         52.34800399 60.76950526]\n",
      " [ 1.         94.09433113 77.15910509]\n",
      " [ 1.         90.44855097 87.50879176]\n",
      " [ 1.         55.48216114 35.57070347]\n",
      " [ 1.         74.49269242 84.84513685]\n",
      " [ 1.         89.84580671 45.35828361]\n",
      " [ 1.         83.48916274 48.3802858 ]\n",
      " [ 1.         42.26170081 87.10385094]\n",
      " [ 1.         99.31500881 68.77540947]\n",
      " [ 1.         55.34001756 64.93193801]\n",
      " [ 1.         74.775893   89.5298129 ]]\n",
      "My y values [[0.]\n",
      " [0.]\n",
      " [0.]\n",
      " [1.]\n",
      " [1.]\n",
      " [0.]\n",
      " [1.]\n",
      " [1.]\n",
      " [1.]\n",
      " [1.]\n",
      " [0.]\n",
      " [0.]\n",
      " [1.]\n",
      " [1.]\n",
      " [0.]\n",
      " [1.]\n",
      " [1.]\n",
      " [0.]\n",
      " [1.]\n",
      " [1.]\n",
      " [0.]\n",
      " [1.]\n",
      " [0.]\n",
      " [0.]\n",
      " [1.]\n",
      " [1.]\n",
      " [1.]\n",
      " [0.]\n",
      " [0.]\n",
      " [0.]\n",
      " [1.]\n",
      " [1.]\n",
      " [0.]\n",
      " [1.]\n",
      " [0.]\n",
      " [0.]\n",
      " [0.]\n",
      " [1.]\n",
      " [0.]\n",
      " [0.]\n",
      " [1.]\n",
      " [0.]\n",
      " [1.]\n",
      " [0.]\n",
      " [0.]\n",
      " [0.]\n",
      " [1.]\n",
      " [1.]\n",
      " [1.]\n",
      " [1.]\n",
      " [1.]\n",
      " [1.]\n",
      " [1.]\n",
      " [0.]\n",
      " [0.]\n",
      " [0.]\n",
      " [1.]\n",
      " [0.]\n",
      " [1.]\n",
      " [1.]\n",
      " [1.]\n",
      " [0.]\n",
      " [0.]\n",
      " [0.]\n",
      " [0.]\n",
      " [0.]\n",
      " [1.]\n",
      " [0.]\n",
      " [1.]\n",
      " [1.]\n",
      " [0.]\n",
      " [1.]\n",
      " [1.]\n",
      " [1.]\n",
      " [1.]\n",
      " [1.]\n",
      " [1.]\n",
      " [1.]\n",
      " [0.]\n",
      " [0.]\n",
      " [1.]\n",
      " [1.]\n",
      " [1.]\n",
      " [1.]\n",
      " [1.]\n",
      " [1.]\n",
      " [0.]\n",
      " [1.]\n",
      " [1.]\n",
      " [0.]\n",
      " [1.]\n",
      " [1.]\n",
      " [0.]\n",
      " [1.]\n",
      " [1.]\n",
      " [1.]\n",
      " [1.]\n",
      " [1.]\n",
      " [1.]\n",
      " [1.]]\n"
     ]
    }
   ],
   "source": [
    "X = np.c_[np.ones((data.shape[0], 1)), data[:, 0:2]]\n",
    "y = np.c_[data[:,2]]\n",
    "\n",
    "\n",
    "print('My X values {0}'.format(X))\n",
    "print('My y values {0}'.format(y))\n"
   ]
  },
  {
   "cell_type": "markdown",
   "metadata": {},
   "source": [
    "### Logistic regression hypothesis\n",
    "\n",
    "\\begin{align}\n",
    "    h_{\\theta}(x) = g(\\theta^{T}x)\n",
    "\\end{align}\n",
    "\n",
    "\\begin{align}\n",
    "    g(z)=\\frac{1}{1+e^{−z}}\n",
    "\\end{align}"
   ]
  },
  {
   "cell_type": "code",
   "execution_count": 7,
   "metadata": {},
   "outputs": [],
   "source": [
    "def sigmoid(z):\n",
    "    return (1 / (1 + np.exp(-z)))"
   ]
  },
  {
   "cell_type": "markdown",
   "metadata": {},
   "source": [
    "### Cost Function\n",
    "\n",
    "\\begin{align}\n",
    "    J(\\theta) = \\frac{1}{m}\\sum_{i=1}^{m}\\big[-y^{(i)}\\, log\\,( h_\\theta\\,(x^{(i)}))-(1-y^{(i)})\\,log\\,(1-h_\\theta(x^{(i)}))\\big]\n",
    "\\end{align}\n",
    "\n",
    "### Vectorized Cost Function\n",
    "\n",
    "\\begin{align}\n",
    "    J(\\theta) = \\frac{1}{m}\\big((\\,log\\,(g(X\\theta))^Ty+(\\,log\\,(1-g(X\\theta))^T(1-y)\\big)\n",
    "\\end{align}"
   ]
  },
  {
   "cell_type": "code",
   "execution_count": 8,
   "metadata": {},
   "outputs": [],
   "source": [
    "def costFunction(theta, X, y):\n",
    "    m = y.shape[0]\n",
    "    h = sigmoid(X.dot(theta)) #Returning my hypothesis\n",
    "    \n",
    "    J = -1 * (1/m) * (np.log(h).T.dot(y) + np.log(1 - h).T.dot(1 - y)) #Vectorized form\n",
    "    print('Showning my theta J {0}'.format(J))\n",
    "    \n",
    "    if np.isnan(J[0]):\n",
    "        return (np.inf)\n",
    "    return(J[0])"
   ]
  },
  {
   "cell_type": "code",
   "execution_count": 9,
   "metadata": {},
   "outputs": [],
   "source": [
    "def gradient(theta, X, y):\n",
    "    m = y.size\n",
    "    h = sigmoid(X.dot(theta.reashape(-1, 1)))\n",
    "    \n",
    "    grad = (1/m) * X.T.dot(h-y)\n",
    "    \n",
    "    return(grad.flatten())"
   ]
  },
  {
   "cell_type": "markdown",
   "metadata": {},
   "source": [
    "###  Documentation\n",
    "\n",
    "#### How to use zeros matrix\n",
    "https://docs.scipy.org/doc/numpy/reference/generated/numpy.matlib.zeros.html#numpy.matlib.zeros\n",
    "\n",
    "#### Matrixes product\n",
    "https://docs.scipy.org/doc/numpy/reference/generated/numpy.dot.html\n",
    "\n"
   ]
  },
  {
   "cell_type": "code",
   "execution_count": 15,
   "metadata": {},
   "outputs": [
    {
     "name": "stdout",
     "output_type": "stream",
     "text": [
      "Initial theta [0. 0. 0.]\n",
      "Reshape (3, 1)\n",
      "Without reshape (3,)\n",
      "X.shape[1] 3\n"
     ]
    }
   ],
   "source": [
    "initial_theta = np.zeros(X.shape[1]) \n",
    "\n",
    "print('Initial theta {0}'.format(initial_theta))\n",
    "print('Reshape {0}'.format(initial_theta.reshape(-1, 1).shape))\n",
    "print('Without reshape {0}'.format(initial_theta.shape))\n",
    "print('X.shape[1] {0}'.format(X.shape[1]))"
   ]
  },
  {
   "cell_type": "code",
   "execution_count": null,
   "metadata": {},
   "outputs": [],
   "source": []
  }
 ],
 "metadata": {
  "kernelspec": {
   "display_name": "Python 3",
   "language": "python",
   "name": "python3"
  },
  "language_info": {
   "codemirror_mode": {
    "name": "ipython",
    "version": 3
   },
   "file_extension": ".py",
   "mimetype": "text/x-python",
   "name": "python",
   "nbconvert_exporter": "python",
   "pygments_lexer": "ipython3",
   "version": "3.7.3"
  }
 },
 "nbformat": 4,
 "nbformat_minor": 2
}
